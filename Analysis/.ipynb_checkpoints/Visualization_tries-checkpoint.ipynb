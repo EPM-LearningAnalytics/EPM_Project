{
 "cells": [
  {
   "cell_type": "code",
   "execution_count": null,
   "id": "7370aac9",
   "metadata": {},
   "outputs": [],
   "source": [
    "# load libraries\n"
   ]
  },
  {
   "cell_type": "code",
   "execution_count": null,
   "id": "a4fe1f31",
   "metadata": {},
   "outputs": [],
   "source": [
    "# load data"
   ]
  },
  {
   "cell_type": "code",
   "execution_count": null,
   "id": "5245efca",
   "metadata": {},
   "outputs": [],
   "source": [
    "# figure 1: for one student, the idle_time change across sessions\n"
   ]
  },
  {
   "cell_type": "code",
   "execution_count": null,
   "id": "0f1dbdc6",
   "metadata": {},
   "outputs": [],
   "source": []
  },
  {
   "cell_type": "code",
   "execution_count": null,
   "id": "c54cf718",
   "metadata": {},
   "outputs": [],
   "source": []
  }
 ],
 "metadata": {
  "kernelspec": {
   "display_name": "Python 3 (ipykernel)",
   "language": "python",
   "name": "python3"
  },
  "language_info": {
   "codemirror_mode": {
    "name": "ipython",
    "version": 3
   },
   "file_extension": ".py",
   "mimetype": "text/x-python",
   "name": "python",
   "nbconvert_exporter": "python",
   "pygments_lexer": "ipython3",
   "version": "3.9.5"
  }
 },
 "nbformat": 4,
 "nbformat_minor": 5
}
