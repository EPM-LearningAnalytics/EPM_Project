{
 "cells": [
  {
   "cell_type": "code",
   "execution_count": 1,
   "id": "f6abfc63",
   "metadata": {},
   "outputs": [],
   "source": [
    "import pickle\n",
    "\n",
    "def review_alert(id):\n",
    "    res = [0]*7\n",
    "    for num in [2, 3, 4, 5, 6]:\n",
    "        data = 'data_session_' + str(num)\n",
    "        df = pickle.load(open(data, 'rb'))\n",
    "        features = df.loc[df['ID'] == int(id)].drop(columns=['Y', 'ID'])\n",
    "        if len(features) == 0:\n",
    "            continue\n",
    "        \n",
    "        model = 'log_regression_' + str(num)\n",
    "        loaded_model = pickle.load(open(model, 'rb'))\n",
    "        res[num] = loaded_model.predict(features)[0]\n",
    "    return res"
   ]
  },
  {
   "cell_type": "code",
   "execution_count": 10,
   "id": "9706175f",
   "metadata": {},
   "outputs": [
    {
     "data": {
      "text/plain": [
       "[0, 0, 1, 1, 1, 1, 1]"
      ]
     },
     "execution_count": 10,
     "metadata": {},
     "output_type": "execute_result"
    }
   ],
   "source": [
    "review_alert(10)"
   ]
  },
  {
   "cell_type": "code",
   "execution_count": null,
   "id": "9ec8d9ff",
   "metadata": {},
   "outputs": [],
   "source": []
  }
 ],
 "metadata": {
  "kernelspec": {
   "display_name": "Python 3",
   "language": "python",
   "name": "python3"
  },
  "language_info": {
   "codemirror_mode": {
    "name": "ipython",
    "version": 3
   },
   "file_extension": ".py",
   "mimetype": "text/x-python",
   "name": "python",
   "nbconvert_exporter": "python",
   "pygments_lexer": "ipython3",
   "version": "3.9.2"
  }
 },
 "nbformat": 4,
 "nbformat_minor": 5
}
